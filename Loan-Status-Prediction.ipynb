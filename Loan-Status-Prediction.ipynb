{
  "nbformat": 4,
  "nbformat_minor": 0,
  "metadata": {
    "colab": {
      "name": "Loan-Status-Prediction.ipynb",
      "provenance": [],
      "collapsed_sections": [],
      "toc_visible": true
    },
    "kernelspec": {
      "name": "python3",
      "display_name": "Python 3"
    },
    "language_info": {
      "name": "python"
    }
  },
  "cells": [
    {
      "cell_type": "markdown",
      "metadata": {
        "id": "M5otHRRIYG3E"
      },
      "source": [
        "### 1. Importing packages"
      ]
    },
    {
      "cell_type": "code",
      "metadata": {
        "id": "JTIArjSU1HLd"
      },
      "source": [
        "!pip install shap"
      ],
      "execution_count": null,
      "outputs": []
    },
    {
      "cell_type": "code",
      "metadata": {
        "_cell_guid": "b1076dfc-b9ad-4769-8c92-a6c4dae69d19",
        "_uuid": "8f2839f25d086af736a60e9eeb907d3b93b6e0e5",
        "id": "EYVmoCN4llLK"
      },
      "source": [
        "# data manipulation\n",
        "import pandas as pd\n",
        "import numpy as np\n",
        "\n",
        "# removing warning about setting value on copy of slice\n",
        "pd.options.mode.chained_assignment = None\n",
        "\n",
        "# displaying up to 60 columns of dataframe\n",
        "pd.set_option('display.max_columns', 60)\n",
        "\n",
        "# matplotlib visualization\n",
        "import matplotlib.pyplot as plt\n",
        "%matplotlib inline\n",
        "\n",
        "# setting font size\n",
        "plt.rcParams['font.size'] = 24\n",
        "\n",
        "# internal ipython tool for setting figure size\n",
        "from IPython.core.pylabtools import figsize\n",
        "\n",
        "# seaborn for visualization\n",
        "import seaborn as sns\n",
        "sns.set(font_scale=1)\n",
        "\n",
        "# machine learning\n",
        "from sklearn.model_selection import train_test_split, cross_val_score\n",
        "from sklearn.preprocessing import StandardScaler, LabelEncoder\n",
        "from xgboost import XGBClassifier\n",
        "import shap"
      ],
      "execution_count": null,
      "outputs": []
    },
    {
      "cell_type": "markdown",
      "metadata": {
        "id": "nsRsNcJgRjMI"
      },
      "source": [
        "### 2. Loading dataset"
      ]
    },
    {
      "cell_type": "code",
      "metadata": {
        "_cell_guid": "79c7e3d0-c299-4dcb-8224-4455121ee9b0",
        "_uuid": "d629ff2d2480ee46fbb7e2d37f6b5fab8052498a",
        "colab": {
          "base_uri": "https://localhost:8080/",
          "height": 582
        },
        "id": "dSIAgzO9llLN",
        "outputId": "2b282105-8612-4165-c058-3a8d26c64ae5"
      },
      "source": [
        "credit_df = pd.read_csv('credit-data.csv')\n",
        "credit_df.head()"
      ],
      "execution_count": null,
      "outputs": [
        {
          "output_type": "execute_result",
          "data": {
            "text/html": [
              "\n",
              "  <div id=\"df-20d5f38f-d1f9-4692-ab94-ee6fecb9abfb\">\n",
              "    <div class=\"colab-df-container\">\n",
              "      <div>\n",
              "<style scoped>\n",
              "    .dataframe tbody tr th:only-of-type {\n",
              "        vertical-align: middle;\n",
              "    }\n",
              "\n",
              "    .dataframe tbody tr th {\n",
              "        vertical-align: top;\n",
              "    }\n",
              "\n",
              "    .dataframe thead th {\n",
              "        text-align: right;\n",
              "    }\n",
              "</style>\n",
              "<table border=\"1\" class=\"dataframe\">\n",
              "  <thead>\n",
              "    <tr style=\"text-align: right;\">\n",
              "      <th></th>\n",
              "      <th>Loan ID</th>\n",
              "      <th>Customer ID</th>\n",
              "      <th>Loan Status</th>\n",
              "      <th>Current Loan Amount</th>\n",
              "      <th>Term</th>\n",
              "      <th>Credit Score</th>\n",
              "      <th>Annual Income</th>\n",
              "      <th>Years in current job</th>\n",
              "      <th>Home Ownership</th>\n",
              "      <th>Purpose</th>\n",
              "      <th>Monthly Debt</th>\n",
              "      <th>Years of Credit History</th>\n",
              "      <th>Months since last delinquent</th>\n",
              "      <th>Number of Open Accounts</th>\n",
              "      <th>Number of Credit Problems</th>\n",
              "      <th>Current Credit Balance</th>\n",
              "      <th>Maximum Open Credit</th>\n",
              "      <th>Bankruptcies</th>\n",
              "      <th>Tax Liens</th>\n",
              "    </tr>\n",
              "  </thead>\n",
              "  <tbody>\n",
              "    <tr>\n",
              "      <th>0</th>\n",
              "      <td>14dd8831-6af5-400b-83ec-68e61888a048</td>\n",
              "      <td>981165ec-3274-42f5-a3b4-d104041a9ca9</td>\n",
              "      <td>Fully Paid</td>\n",
              "      <td>445412.0</td>\n",
              "      <td>Short Term</td>\n",
              "      <td>709.0</td>\n",
              "      <td>1167493.0</td>\n",
              "      <td>8 years</td>\n",
              "      <td>Home Mortgage</td>\n",
              "      <td>Home Improvements</td>\n",
              "      <td>5214.74</td>\n",
              "      <td>17.2</td>\n",
              "      <td>NaN</td>\n",
              "      <td>6.0</td>\n",
              "      <td>1.0</td>\n",
              "      <td>228190.0</td>\n",
              "      <td>416746.0</td>\n",
              "      <td>1.0</td>\n",
              "      <td>0.0</td>\n",
              "    </tr>\n",
              "    <tr>\n",
              "      <th>1</th>\n",
              "      <td>4771cc26-131a-45db-b5aa-537ea4ba5342</td>\n",
              "      <td>2de017a3-2e01-49cb-a581-08169e83be29</td>\n",
              "      <td>Fully Paid</td>\n",
              "      <td>262328.0</td>\n",
              "      <td>Short Term</td>\n",
              "      <td>NaN</td>\n",
              "      <td>NaN</td>\n",
              "      <td>10+ years</td>\n",
              "      <td>Home Mortgage</td>\n",
              "      <td>Debt Consolidation</td>\n",
              "      <td>33295.98</td>\n",
              "      <td>21.1</td>\n",
              "      <td>8.0</td>\n",
              "      <td>35.0</td>\n",
              "      <td>0.0</td>\n",
              "      <td>229976.0</td>\n",
              "      <td>850784.0</td>\n",
              "      <td>0.0</td>\n",
              "      <td>0.0</td>\n",
              "    </tr>\n",
              "    <tr>\n",
              "      <th>2</th>\n",
              "      <td>4eed4e6a-aa2f-4c91-8651-ce984ee8fb26</td>\n",
              "      <td>5efb2b2b-bf11-4dfd-a572-3761a2694725</td>\n",
              "      <td>Fully Paid</td>\n",
              "      <td>99999999.0</td>\n",
              "      <td>Short Term</td>\n",
              "      <td>741.0</td>\n",
              "      <td>2231892.0</td>\n",
              "      <td>8 years</td>\n",
              "      <td>Own Home</td>\n",
              "      <td>Debt Consolidation</td>\n",
              "      <td>29200.53</td>\n",
              "      <td>14.9</td>\n",
              "      <td>29.0</td>\n",
              "      <td>18.0</td>\n",
              "      <td>1.0</td>\n",
              "      <td>297996.0</td>\n",
              "      <td>750090.0</td>\n",
              "      <td>0.0</td>\n",
              "      <td>0.0</td>\n",
              "    </tr>\n",
              "    <tr>\n",
              "      <th>3</th>\n",
              "      <td>77598f7b-32e7-4e3b-a6e5-06ba0d98fe8a</td>\n",
              "      <td>e777faab-98ae-45af-9a86-7ce5b33b1011</td>\n",
              "      <td>Fully Paid</td>\n",
              "      <td>347666.0</td>\n",
              "      <td>Long Term</td>\n",
              "      <td>721.0</td>\n",
              "      <td>806949.0</td>\n",
              "      <td>3 years</td>\n",
              "      <td>Own Home</td>\n",
              "      <td>Debt Consolidation</td>\n",
              "      <td>8741.90</td>\n",
              "      <td>12.0</td>\n",
              "      <td>NaN</td>\n",
              "      <td>9.0</td>\n",
              "      <td>0.0</td>\n",
              "      <td>256329.0</td>\n",
              "      <td>386958.0</td>\n",
              "      <td>0.0</td>\n",
              "      <td>0.0</td>\n",
              "    </tr>\n",
              "    <tr>\n",
              "      <th>4</th>\n",
              "      <td>d4062e70-befa-4995-8643-a0de73938182</td>\n",
              "      <td>81536ad9-5ccf-4eb8-befb-47a4d608658e</td>\n",
              "      <td>Fully Paid</td>\n",
              "      <td>176220.0</td>\n",
              "      <td>Short Term</td>\n",
              "      <td>NaN</td>\n",
              "      <td>NaN</td>\n",
              "      <td>5 years</td>\n",
              "      <td>Rent</td>\n",
              "      <td>Debt Consolidation</td>\n",
              "      <td>20639.70</td>\n",
              "      <td>6.1</td>\n",
              "      <td>NaN</td>\n",
              "      <td>15.0</td>\n",
              "      <td>0.0</td>\n",
              "      <td>253460.0</td>\n",
              "      <td>427174.0</td>\n",
              "      <td>0.0</td>\n",
              "      <td>0.0</td>\n",
              "    </tr>\n",
              "  </tbody>\n",
              "</table>\n",
              "</div>\n",
              "      <button class=\"colab-df-convert\" onclick=\"convertToInteractive('df-20d5f38f-d1f9-4692-ab94-ee6fecb9abfb')\"\n",
              "              title=\"Convert this dataframe to an interactive table.\"\n",
              "              style=\"display:none;\">\n",
              "        \n",
              "  <svg xmlns=\"http://www.w3.org/2000/svg\" height=\"24px\"viewBox=\"0 0 24 24\"\n",
              "       width=\"24px\">\n",
              "    <path d=\"M0 0h24v24H0V0z\" fill=\"none\"/>\n",
              "    <path d=\"M18.56 5.44l.94 2.06.94-2.06 2.06-.94-2.06-.94-.94-2.06-.94 2.06-2.06.94zm-11 1L8.5 8.5l.94-2.06 2.06-.94-2.06-.94L8.5 2.5l-.94 2.06-2.06.94zm10 10l.94 2.06.94-2.06 2.06-.94-2.06-.94-.94-2.06-.94 2.06-2.06.94z\"/><path d=\"M17.41 7.96l-1.37-1.37c-.4-.4-.92-.59-1.43-.59-.52 0-1.04.2-1.43.59L10.3 9.45l-7.72 7.72c-.78.78-.78 2.05 0 2.83L4 21.41c.39.39.9.59 1.41.59.51 0 1.02-.2 1.41-.59l7.78-7.78 2.81-2.81c.8-.78.8-2.07 0-2.86zM5.41 20L4 18.59l7.72-7.72 1.47 1.35L5.41 20z\"/>\n",
              "  </svg>\n",
              "      </button>\n",
              "      \n",
              "  <style>\n",
              "    .colab-df-container {\n",
              "      display:flex;\n",
              "      flex-wrap:wrap;\n",
              "      gap: 12px;\n",
              "    }\n",
              "\n",
              "    .colab-df-convert {\n",
              "      background-color: #E8F0FE;\n",
              "      border: none;\n",
              "      border-radius: 50%;\n",
              "      cursor: pointer;\n",
              "      display: none;\n",
              "      fill: #1967D2;\n",
              "      height: 32px;\n",
              "      padding: 0 0 0 0;\n",
              "      width: 32px;\n",
              "    }\n",
              "\n",
              "    .colab-df-convert:hover {\n",
              "      background-color: #E2EBFA;\n",
              "      box-shadow: 0px 1px 2px rgba(60, 64, 67, 0.3), 0px 1px 3px 1px rgba(60, 64, 67, 0.15);\n",
              "      fill: #174EA6;\n",
              "    }\n",
              "\n",
              "    [theme=dark] .colab-df-convert {\n",
              "      background-color: #3B4455;\n",
              "      fill: #D2E3FC;\n",
              "    }\n",
              "\n",
              "    [theme=dark] .colab-df-convert:hover {\n",
              "      background-color: #434B5C;\n",
              "      box-shadow: 0px 1px 3px 1px rgba(0, 0, 0, 0.15);\n",
              "      filter: drop-shadow(0px 1px 2px rgba(0, 0, 0, 0.3));\n",
              "      fill: #FFFFFF;\n",
              "    }\n",
              "  </style>\n",
              "\n",
              "      <script>\n",
              "        const buttonEl =\n",
              "          document.querySelector('#df-20d5f38f-d1f9-4692-ab94-ee6fecb9abfb button.colab-df-convert');\n",
              "        buttonEl.style.display =\n",
              "          google.colab.kernel.accessAllowed ? 'block' : 'none';\n",
              "\n",
              "        async function convertToInteractive(key) {\n",
              "          const element = document.querySelector('#df-20d5f38f-d1f9-4692-ab94-ee6fecb9abfb');\n",
              "          const dataTable =\n",
              "            await google.colab.kernel.invokeFunction('convertToInteractive',\n",
              "                                                     [key], {});\n",
              "          if (!dataTable) return;\n",
              "\n",
              "          const docLinkHtml = 'Like what you see? Visit the ' +\n",
              "            '<a target=\"_blank\" href=https://colab.research.google.com/notebooks/data_table.ipynb>data table notebook</a>'\n",
              "            + ' to learn more about interactive tables.';\n",
              "          element.innerHTML = '';\n",
              "          dataTable['output_type'] = 'display_data';\n",
              "          await google.colab.output.renderOutput(dataTable, element);\n",
              "          const docLink = document.createElement('div');\n",
              "          docLink.innerHTML = docLinkHtml;\n",
              "          element.appendChild(docLink);\n",
              "        }\n",
              "      </script>\n",
              "    </div>\n",
              "  </div>\n",
              "  "
            ],
            "text/plain": [
              "                                Loan ID                           Customer ID  \\\n",
              "0  14dd8831-6af5-400b-83ec-68e61888a048  981165ec-3274-42f5-a3b4-d104041a9ca9   \n",
              "1  4771cc26-131a-45db-b5aa-537ea4ba5342  2de017a3-2e01-49cb-a581-08169e83be29   \n",
              "2  4eed4e6a-aa2f-4c91-8651-ce984ee8fb26  5efb2b2b-bf11-4dfd-a572-3761a2694725   \n",
              "3  77598f7b-32e7-4e3b-a6e5-06ba0d98fe8a  e777faab-98ae-45af-9a86-7ce5b33b1011   \n",
              "4  d4062e70-befa-4995-8643-a0de73938182  81536ad9-5ccf-4eb8-befb-47a4d608658e   \n",
              "\n",
              "  Loan Status  Current Loan Amount        Term  Credit Score  Annual Income  \\\n",
              "0  Fully Paid             445412.0  Short Term         709.0      1167493.0   \n",
              "1  Fully Paid             262328.0  Short Term           NaN            NaN   \n",
              "2  Fully Paid           99999999.0  Short Term         741.0      2231892.0   \n",
              "3  Fully Paid             347666.0   Long Term         721.0       806949.0   \n",
              "4  Fully Paid             176220.0  Short Term           NaN            NaN   \n",
              "\n",
              "  Years in current job Home Ownership             Purpose  Monthly Debt  \\\n",
              "0              8 years  Home Mortgage   Home Improvements       5214.74   \n",
              "1            10+ years  Home Mortgage  Debt Consolidation      33295.98   \n",
              "2              8 years       Own Home  Debt Consolidation      29200.53   \n",
              "3              3 years       Own Home  Debt Consolidation       8741.90   \n",
              "4              5 years           Rent  Debt Consolidation      20639.70   \n",
              "\n",
              "   Years of Credit History  Months since last delinquent  \\\n",
              "0                     17.2                           NaN   \n",
              "1                     21.1                           8.0   \n",
              "2                     14.9                          29.0   \n",
              "3                     12.0                           NaN   \n",
              "4                      6.1                           NaN   \n",
              "\n",
              "   Number of Open Accounts  Number of Credit Problems  Current Credit Balance  \\\n",
              "0                      6.0                        1.0                228190.0   \n",
              "1                     35.0                        0.0                229976.0   \n",
              "2                     18.0                        1.0                297996.0   \n",
              "3                      9.0                        0.0                256329.0   \n",
              "4                     15.0                        0.0                253460.0   \n",
              "\n",
              "   Maximum Open Credit  Bankruptcies  Tax Liens  \n",
              "0             416746.0           1.0        0.0  \n",
              "1             850784.0           0.0        0.0  \n",
              "2             750090.0           0.0        0.0  \n",
              "3             386958.0           0.0        0.0  \n",
              "4             427174.0           0.0        0.0  "
            ]
          },
          "metadata": {},
          "execution_count": 3
        }
      ]
    },
    {
      "cell_type": "code",
      "metadata": {
        "_uuid": "6dd5c8d62615e1e852c59db262dde7fef027ca06",
        "colab": {
          "base_uri": "https://localhost:8080/"
        },
        "id": "l8rhOFVvllLO",
        "outputId": "0e8d06b4-ae36-4d2c-e2c9-1a5d3d2695a6"
      },
      "source": [
        "credit_df.shape"
      ],
      "execution_count": null,
      "outputs": [
        {
          "output_type": "execute_result",
          "data": {
            "text/plain": [
              "(100514, 19)"
            ]
          },
          "metadata": {},
          "execution_count": 4
        }
      ]
    },
    {
      "cell_type": "code",
      "metadata": {
        "_uuid": "e2a8dd84e67164754d6d43902592a8249ec6dac8",
        "colab": {
          "base_uri": "https://localhost:8080/"
        },
        "id": "hPyDrWIRllLO",
        "outputId": "42fe913e-3c48-49d6-cdc0-638e94976bce"
      },
      "source": [
        "credit_df.info()"
      ],
      "execution_count": null,
      "outputs": [
        {
          "output_type": "stream",
          "name": "stdout",
          "text": [
            "<class 'pandas.core.frame.DataFrame'>\n",
            "RangeIndex: 100514 entries, 0 to 100513\n",
            "Data columns (total 19 columns):\n",
            " #   Column                        Non-Null Count   Dtype  \n",
            "---  ------                        --------------   -----  \n",
            " 0   Loan ID                       100000 non-null  object \n",
            " 1   Customer ID                   100000 non-null  object \n",
            " 2   Loan Status                   100000 non-null  object \n",
            " 3   Current Loan Amount           100000 non-null  float64\n",
            " 4   Term                          100000 non-null  object \n",
            " 5   Credit Score                  80846 non-null   float64\n",
            " 6   Annual Income                 80846 non-null   float64\n",
            " 7   Years in current job          95778 non-null   object \n",
            " 8   Home Ownership                100000 non-null  object \n",
            " 9   Purpose                       100000 non-null  object \n",
            " 10  Monthly Debt                  100000 non-null  float64\n",
            " 11  Years of Credit History       100000 non-null  float64\n",
            " 12  Months since last delinquent  46859 non-null   float64\n",
            " 13  Number of Open Accounts       100000 non-null  float64\n",
            " 14  Number of Credit Problems     100000 non-null  float64\n",
            " 15  Current Credit Balance        100000 non-null  float64\n",
            " 16  Maximum Open Credit           99998 non-null   float64\n",
            " 17  Bankruptcies                  99796 non-null   float64\n",
            " 18  Tax Liens                     99990 non-null   float64\n",
            "dtypes: float64(12), object(7)\n",
            "memory usage: 14.6+ MB\n"
          ]
        }
      ]
    },
    {
      "cell_type": "markdown",
      "source": [
        "### 3. Feature engineering"
      ],
      "metadata": {
        "id": "Fod70pZ-C0nV"
      }
    },
    {
      "cell_type": "code",
      "metadata": {
        "_uuid": "e516824b86742c41bce64e70d6134231e31a4ea3",
        "id": "4-DSyoY7llLQ"
      },
      "source": [
        "credit_df.drop(labels=['Loan ID', 'Customer ID'], axis=1, inplace=True)"
      ],
      "execution_count": null,
      "outputs": []
    },
    {
      "cell_type": "code",
      "metadata": {
        "_uuid": "c0d448aee129b1a9d2dfbfe60e7ffa71c3011689",
        "id": "LAd7CLvdllLR"
      },
      "source": [
        "# function for calculating null values by column\n",
        "def calc_null_vals(df):\n",
        "    null_vals = df.isnull().sum() # total null values\n",
        "    null_vals_perc = 100 * null_vals / len(df) # percentage of null values\n",
        "    null_vals_df = pd.concat([null_vals, null_vals_perc], axis=1)\n",
        "    null_vals_df.rename(columns={0:'Null Vals', 1:'% of Total Vals'}, inplace=True)\n",
        "    null_vals_df = null_vals_df[null_vals_df.iloc[:,1] != 0].sort_values('% of Total Vals', \n",
        "                                                                            ascending=False).round(1)\n",
        "    print(f'Columns: {df.shape[1]}')\n",
        "    print(f'Columns with null vals: {null_vals_df.shape[0]}')\n",
        "    return null_vals_df"
      ],
      "execution_count": null,
      "outputs": []
    },
    {
      "cell_type": "code",
      "source": [
        "calc_null_vals(credit_df)"
      ],
      "metadata": {
        "colab": {
          "base_uri": "https://localhost:8080/",
          "height": 617
        },
        "id": "oXOn1dcLONhd",
        "outputId": "e4796bff-1bca-41b0-bdb0-1f02b3691c0b"
      },
      "execution_count": null,
      "outputs": [
        {
          "output_type": "stream",
          "name": "stdout",
          "text": [
            "Columns: 17\n",
            "Columns with null vals: 17\n"
          ]
        },
        {
          "output_type": "execute_result",
          "data": {
            "text/html": [
              "\n",
              "  <div id=\"df-50eaa487-dd5b-4d91-8a81-f1361fa2cf70\">\n",
              "    <div class=\"colab-df-container\">\n",
              "      <div>\n",
              "<style scoped>\n",
              "    .dataframe tbody tr th:only-of-type {\n",
              "        vertical-align: middle;\n",
              "    }\n",
              "\n",
              "    .dataframe tbody tr th {\n",
              "        vertical-align: top;\n",
              "    }\n",
              "\n",
              "    .dataframe thead th {\n",
              "        text-align: right;\n",
              "    }\n",
              "</style>\n",
              "<table border=\"1\" class=\"dataframe\">\n",
              "  <thead>\n",
              "    <tr style=\"text-align: right;\">\n",
              "      <th></th>\n",
              "      <th>Null Vals</th>\n",
              "      <th>% of Total Vals</th>\n",
              "    </tr>\n",
              "  </thead>\n",
              "  <tbody>\n",
              "    <tr>\n",
              "      <th>Months since last delinquent</th>\n",
              "      <td>53655</td>\n",
              "      <td>53.4</td>\n",
              "    </tr>\n",
              "    <tr>\n",
              "      <th>Credit Score</th>\n",
              "      <td>19668</td>\n",
              "      <td>19.6</td>\n",
              "    </tr>\n",
              "    <tr>\n",
              "      <th>Annual Income</th>\n",
              "      <td>19668</td>\n",
              "      <td>19.6</td>\n",
              "    </tr>\n",
              "    <tr>\n",
              "      <th>Years in current job</th>\n",
              "      <td>4736</td>\n",
              "      <td>4.7</td>\n",
              "    </tr>\n",
              "    <tr>\n",
              "      <th>Bankruptcies</th>\n",
              "      <td>718</td>\n",
              "      <td>0.7</td>\n",
              "    </tr>\n",
              "    <tr>\n",
              "      <th>Tax Liens</th>\n",
              "      <td>524</td>\n",
              "      <td>0.5</td>\n",
              "    </tr>\n",
              "    <tr>\n",
              "      <th>Maximum Open Credit</th>\n",
              "      <td>516</td>\n",
              "      <td>0.5</td>\n",
              "    </tr>\n",
              "    <tr>\n",
              "      <th>Current Credit Balance</th>\n",
              "      <td>514</td>\n",
              "      <td>0.5</td>\n",
              "    </tr>\n",
              "    <tr>\n",
              "      <th>Number of Credit Problems</th>\n",
              "      <td>514</td>\n",
              "      <td>0.5</td>\n",
              "    </tr>\n",
              "    <tr>\n",
              "      <th>Number of Open Accounts</th>\n",
              "      <td>514</td>\n",
              "      <td>0.5</td>\n",
              "    </tr>\n",
              "    <tr>\n",
              "      <th>Loan Status</th>\n",
              "      <td>514</td>\n",
              "      <td>0.5</td>\n",
              "    </tr>\n",
              "    <tr>\n",
              "      <th>Years of Credit History</th>\n",
              "      <td>514</td>\n",
              "      <td>0.5</td>\n",
              "    </tr>\n",
              "    <tr>\n",
              "      <th>Current Loan Amount</th>\n",
              "      <td>514</td>\n",
              "      <td>0.5</td>\n",
              "    </tr>\n",
              "    <tr>\n",
              "      <th>Purpose</th>\n",
              "      <td>514</td>\n",
              "      <td>0.5</td>\n",
              "    </tr>\n",
              "    <tr>\n",
              "      <th>Home Ownership</th>\n",
              "      <td>514</td>\n",
              "      <td>0.5</td>\n",
              "    </tr>\n",
              "    <tr>\n",
              "      <th>Term</th>\n",
              "      <td>514</td>\n",
              "      <td>0.5</td>\n",
              "    </tr>\n",
              "    <tr>\n",
              "      <th>Monthly Debt</th>\n",
              "      <td>514</td>\n",
              "      <td>0.5</td>\n",
              "    </tr>\n",
              "  </tbody>\n",
              "</table>\n",
              "</div>\n",
              "      <button class=\"colab-df-convert\" onclick=\"convertToInteractive('df-50eaa487-dd5b-4d91-8a81-f1361fa2cf70')\"\n",
              "              title=\"Convert this dataframe to an interactive table.\"\n",
              "              style=\"display:none;\">\n",
              "        \n",
              "  <svg xmlns=\"http://www.w3.org/2000/svg\" height=\"24px\"viewBox=\"0 0 24 24\"\n",
              "       width=\"24px\">\n",
              "    <path d=\"M0 0h24v24H0V0z\" fill=\"none\"/>\n",
              "    <path d=\"M18.56 5.44l.94 2.06.94-2.06 2.06-.94-2.06-.94-.94-2.06-.94 2.06-2.06.94zm-11 1L8.5 8.5l.94-2.06 2.06-.94-2.06-.94L8.5 2.5l-.94 2.06-2.06.94zm10 10l.94 2.06.94-2.06 2.06-.94-2.06-.94-.94-2.06-.94 2.06-2.06.94z\"/><path d=\"M17.41 7.96l-1.37-1.37c-.4-.4-.92-.59-1.43-.59-.52 0-1.04.2-1.43.59L10.3 9.45l-7.72 7.72c-.78.78-.78 2.05 0 2.83L4 21.41c.39.39.9.59 1.41.59.51 0 1.02-.2 1.41-.59l7.78-7.78 2.81-2.81c.8-.78.8-2.07 0-2.86zM5.41 20L4 18.59l7.72-7.72 1.47 1.35L5.41 20z\"/>\n",
              "  </svg>\n",
              "      </button>\n",
              "      \n",
              "  <style>\n",
              "    .colab-df-container {\n",
              "      display:flex;\n",
              "      flex-wrap:wrap;\n",
              "      gap: 12px;\n",
              "    }\n",
              "\n",
              "    .colab-df-convert {\n",
              "      background-color: #E8F0FE;\n",
              "      border: none;\n",
              "      border-radius: 50%;\n",
              "      cursor: pointer;\n",
              "      display: none;\n",
              "      fill: #1967D2;\n",
              "      height: 32px;\n",
              "      padding: 0 0 0 0;\n",
              "      width: 32px;\n",
              "    }\n",
              "\n",
              "    .colab-df-convert:hover {\n",
              "      background-color: #E2EBFA;\n",
              "      box-shadow: 0px 1px 2px rgba(60, 64, 67, 0.3), 0px 1px 3px 1px rgba(60, 64, 67, 0.15);\n",
              "      fill: #174EA6;\n",
              "    }\n",
              "\n",
              "    [theme=dark] .colab-df-convert {\n",
              "      background-color: #3B4455;\n",
              "      fill: #D2E3FC;\n",
              "    }\n",
              "\n",
              "    [theme=dark] .colab-df-convert:hover {\n",
              "      background-color: #434B5C;\n",
              "      box-shadow: 0px 1px 3px 1px rgba(0, 0, 0, 0.15);\n",
              "      filter: drop-shadow(0px 1px 2px rgba(0, 0, 0, 0.3));\n",
              "      fill: #FFFFFF;\n",
              "    }\n",
              "  </style>\n",
              "\n",
              "      <script>\n",
              "        const buttonEl =\n",
              "          document.querySelector('#df-50eaa487-dd5b-4d91-8a81-f1361fa2cf70 button.colab-df-convert');\n",
              "        buttonEl.style.display =\n",
              "          google.colab.kernel.accessAllowed ? 'block' : 'none';\n",
              "\n",
              "        async function convertToInteractive(key) {\n",
              "          const element = document.querySelector('#df-50eaa487-dd5b-4d91-8a81-f1361fa2cf70');\n",
              "          const dataTable =\n",
              "            await google.colab.kernel.invokeFunction('convertToInteractive',\n",
              "                                                     [key], {});\n",
              "          if (!dataTable) return;\n",
              "\n",
              "          const docLinkHtml = 'Like what you see? Visit the ' +\n",
              "            '<a target=\"_blank\" href=https://colab.research.google.com/notebooks/data_table.ipynb>data table notebook</a>'\n",
              "            + ' to learn more about interactive tables.';\n",
              "          element.innerHTML = '';\n",
              "          dataTable['output_type'] = 'display_data';\n",
              "          await google.colab.output.renderOutput(dataTable, element);\n",
              "          const docLink = document.createElement('div');\n",
              "          docLink.innerHTML = docLinkHtml;\n",
              "          element.appendChild(docLink);\n",
              "        }\n",
              "      </script>\n",
              "    </div>\n",
              "  </div>\n",
              "  "
            ],
            "text/plain": [
              "                              Null Vals  % of Total Vals\n",
              "Months since last delinquent      53655             53.4\n",
              "Credit Score                      19668             19.6\n",
              "Annual Income                     19668             19.6\n",
              "Years in current job               4736              4.7\n",
              "Bankruptcies                        718              0.7\n",
              "Tax Liens                           524              0.5\n",
              "Maximum Open Credit                 516              0.5\n",
              "Current Credit Balance              514              0.5\n",
              "Number of Credit Problems           514              0.5\n",
              "Number of Open Accounts             514              0.5\n",
              "Loan Status                         514              0.5\n",
              "Years of Credit History             514              0.5\n",
              "Current Loan Amount                 514              0.5\n",
              "Purpose                             514              0.5\n",
              "Home Ownership                      514              0.5\n",
              "Term                                514              0.5\n",
              "Monthly Debt                        514              0.5"
            ]
          },
          "metadata": {},
          "execution_count": 8
        }
      ]
    },
    {
      "cell_type": "code",
      "metadata": {
        "_uuid": "330d0ef3e7e0732b90dccaeb56d8ce949b48b509",
        "scrolled": true,
        "colab": {
          "base_uri": "https://localhost:8080/",
          "height": 542
        },
        "id": "tZ-iQbqIllLT",
        "outputId": "f5398082-648b-4d6a-ea98-40e122f08231"
      },
      "source": [
        "# dropping column with > 50% null values\n",
        "credit_df.drop(columns='Months since last delinquent', axis=1, inplace=True)\n",
        "\n",
        "# last 514 rows are null\n",
        "credit_df.drop(credit_df.tail(514).index, inplace=True) # dropping last 514 rows\n",
        "\n",
        "# number of null values is very low in 'Maximum Open Credit', 'Tax Liens', 'Bankruptcies'\n",
        "for row in credit_df['Maximum Open Credit'][credit_df['Maximum Open Credit'].isnull() == True].index:\n",
        "    credit_df.drop(labels=row, inplace=True)\n",
        "\n",
        "for row in credit_df['Tax Liens'][credit_df['Tax Liens'].isnull() == True].index:\n",
        "    credit_df.drop(labels=row, inplace=True)\n",
        "\n",
        "for row in credit_df['Bankruptcies'][credit_df['Bankruptcies'].isnull() == True].index:\n",
        "    credit_df.drop(labels=row, inplace=True)\n",
        "\n",
        "credit_df.fillna(credit_df.mean(), inplace=True) # filling null values with means (numerical)\n",
        "credit_df.fillna('10+ years', inplace=True) # filling null values with '10+ years' (categorical)\n",
        "\n",
        "plt.figure(figsize=(20,8))\n",
        "sns.countplot(credit_df['Years in current job'], order=credit_df['Years in current job'].value_counts().index)"
      ],
      "execution_count": null,
      "outputs": [
        {
          "output_type": "stream",
          "name": "stderr",
          "text": [
            "Dropping of nuisance columns in DataFrame reductions (with 'numeric_only=None') is deprecated; in a future version this will raise TypeError.  Select only valid columns before calling the reduction.\n",
            "Pass the following variable as a keyword arg: x. From version 0.12, the only valid positional argument will be `data`, and passing other arguments without an explicit keyword will result in an error or misinterpretation.\n"
          ]
        },
        {
          "output_type": "execute_result",
          "data": {
            "text/plain": [
              "<matplotlib.axes._subplots.AxesSubplot at 0x7f381344acd0>"
            ]
          },
          "metadata": {},
          "execution_count": 9
        },
        {
          "output_type": "display_data",
          "data": {
            "image/png": "[encoded data removed]",
            "text/plain": [
              "<Figure size 1440x576 with 1 Axes>"
            ]
          },
          "metadata": {}
        }
      ]
    },
    {
      "cell_type": "code",
      "source": [
        "calc_null_vals(credit_df)"
      ],
      "metadata": {
        "colab": {
          "base_uri": "https://localhost:8080/",
          "height": 84
        },
        "id": "vPWOiAWHUBfH",
        "outputId": "845a9989-21cb-48a0-9523-69d2ccbcfe9e"
      },
      "execution_count": null,
      "outputs": [
        {
          "output_type": "stream",
          "name": "stdout",
          "text": [
            "Columns: 16\n",
            "Columns with null vals: 0\n"
          ]
        },
        {
          "output_type": "execute_result",
          "data": {
            "text/html": [
              "\n",
              "  <div id=\"df-d2e84ad4-e00e-4e20-918f-040e89c65d79\">\n",
              "    <div class=\"colab-df-container\">\n",
              "      <div>\n",
              "<style scoped>\n",
              "    .dataframe tbody tr th:only-of-type {\n",
              "        vertical-align: middle;\n",
              "    }\n",
              "\n",
              "    .dataframe tbody tr th {\n",
              "        vertical-align: top;\n",
              "    }\n",
              "\n",
              "    .dataframe thead th {\n",
              "        text-align: right;\n",
              "    }\n",
              "</style>\n",
              "<table border=\"1\" class=\"dataframe\">\n",
              "  <thead>\n",
              "    <tr style=\"text-align: right;\">\n",
              "      <th></th>\n",
              "      <th>Null Vals</th>\n",
              "      <th>% of Total Vals</th>\n",
              "    </tr>\n",
              "  </thead>\n",
              "  <tbody>\n",
              "  </tbody>\n",
              "</table>\n",
              "</div>\n",
              "      <button class=\"colab-df-convert\" onclick=\"convertToInteractive('df-d2e84ad4-e00e-4e20-918f-040e89c65d79')\"\n",
              "              title=\"Convert this dataframe to an interactive table.\"\n",
              "              style=\"display:none;\">\n",
              "        \n",
              "  <svg xmlns=\"http://www.w3.org/2000/svg\" height=\"24px\"viewBox=\"0 0 24 24\"\n",
              "       width=\"24px\">\n",
              "    <path d=\"M0 0h24v24H0V0z\" fill=\"none\"/>\n",
              "    <path d=\"M18.56 5.44l.94 2.06.94-2.06 2.06-.94-2.06-.94-.94-2.06-.94 2.06-2.06.94zm-11 1L8.5 8.5l.94-2.06 2.06-.94-2.06-.94L8.5 2.5l-.94 2.06-2.06.94zm10 10l.94 2.06.94-2.06 2.06-.94-2.06-.94-.94-2.06-.94 2.06-2.06.94z\"/><path d=\"M17.41 7.96l-1.37-1.37c-.4-.4-.92-.59-1.43-.59-.52 0-1.04.2-1.43.59L10.3 9.45l-7.72 7.72c-.78.78-.78 2.05 0 2.83L4 21.41c.39.39.9.59 1.41.59.51 0 1.02-.2 1.41-.59l7.78-7.78 2.81-2.81c.8-.78.8-2.07 0-2.86zM5.41 20L4 18.59l7.72-7.72 1.47 1.35L5.41 20z\"/>\n",
              "  </svg>\n",
              "      </button>\n",
              "      \n",
              "  <style>\n",
              "    .colab-df-container {\n",
              "      display:flex;\n",
              "      flex-wrap:wrap;\n",
              "      gap: 12px;\n",
              "    }\n",
              "\n",
              "    .colab-df-convert {\n",
              "      background-color: #E8F0FE;\n",
              "      border: none;\n",
              "      border-radius: 50%;\n",
              "      cursor: pointer;\n",
              "      display: none;\n",
              "      fill: #1967D2;\n",
              "      height: 32px;\n",
              "      padding: 0 0 0 0;\n",
              "      width: 32px;\n",
              "    }\n",
              "\n",
              "    .colab-df-convert:hover {\n",
              "      background-color: #E2EBFA;\n",
              "      box-shadow: 0px 1px 2px rgba(60, 64, 67, 0.3), 0px 1px 3px 1px rgba(60, 64, 67, 0.15);\n",
              "      fill: #174EA6;\n",
              "    }\n",
              "\n",
              "    [theme=dark] .colab-df-convert {\n",
              "      background-color: #3B4455;\n",
              "      fill: #D2E3FC;\n",
              "    }\n",
              "\n",
              "    [theme=dark] .colab-df-convert:hover {\n",
              "      background-color: #434B5C;\n",
              "      box-shadow: 0px 1px 3px 1px rgba(0, 0, 0, 0.15);\n",
              "      filter: drop-shadow(0px 1px 2px rgba(0, 0, 0, 0.3));\n",
              "      fill: #FFFFFF;\n",
              "    }\n",
              "  </style>\n",
              "\n",
              "      <script>\n",
              "        const buttonEl =\n",
              "          document.querySelector('#df-d2e84ad4-e00e-4e20-918f-040e89c65d79 button.colab-df-convert');\n",
              "        buttonEl.style.display =\n",
              "          google.colab.kernel.accessAllowed ? 'block' : 'none';\n",
              "\n",
              "        async function convertToInteractive(key) {\n",
              "          const element = document.querySelector('#df-d2e84ad4-e00e-4e20-918f-040e89c65d79');\n",
              "          const dataTable =\n",
              "            await google.colab.kernel.invokeFunction('convertToInteractive',\n",
              "                                                     [key], {});\n",
              "          if (!dataTable) return;\n",
              "\n",
              "          const docLinkHtml = 'Like what you see? Visit the ' +\n",
              "            '<a target=\"_blank\" href=https://colab.research.google.com/notebooks/data_table.ipynb>data table notebook</a>'\n",
              "            + ' to learn more about interactive tables.';\n",
              "          element.innerHTML = '';\n",
              "          dataTable['output_type'] = 'display_data';\n",
              "          await google.colab.output.renderOutput(dataTable, element);\n",
              "          const docLink = document.createElement('div');\n",
              "          docLink.innerHTML = docLinkHtml;\n",
              "          element.appendChild(docLink);\n",
              "        }\n",
              "      </script>\n",
              "    </div>\n",
              "  </div>\n",
              "  "
            ],
            "text/plain": [
              "Empty DataFrame\n",
              "Columns: [Null Vals, % of Total Vals]\n",
              "Index: []"
            ]
          },
          "metadata": {},
          "execution_count": 10
        }
      ]
    },
    {
      "cell_type": "code",
      "metadata": {
        "_uuid": "13e110a0d27ac1da28d562ad0b6d84d8bfd4cd75",
        "id": "qIBQieD7llLV"
      },
      "source": [
        "# one hot encoding categorical columns\n",
        "cat_cols = ['Term', 'Years in current job', 'Home Ownership', 'Purpose']\n",
        "credit_df = pd.get_dummies(data=credit_df, columns=cat_cols)"
      ],
      "execution_count": null,
      "outputs": []
    },
    {
      "cell_type": "code",
      "metadata": {
        "_uuid": "b07ba1398ad974d62ccd1c65a1981915abc6976f",
        "id": "m_yLuGzVllLV"
      },
      "source": [
        "# function for removing collinear features\n",
        "def remove_collinear_features(X, threshold):\n",
        "    y = X['Loan Status']\n",
        "    X.drop(columns='Loan Status', inplace=True)\n",
        "\n",
        "    # calculating correlation matrix\n",
        "    corr_matrix = X.corr()\n",
        "    itr = range(len(corr_matrix.columns)-1)\n",
        "    drop_cols = []\n",
        "\n",
        "    # iterating over correlation matrix and comparing correlations\n",
        "    for i in itr:\n",
        "        for j in range(i):\n",
        "            item = corr_matrix.iloc[j:(j+1), (i+1):(i+2)]\n",
        "            col = item.columns\n",
        "            row = item.index\n",
        "            val = abs(item.values)\n",
        "            if val >= threshold:\n",
        "                print(col.values[0], '|', row.values[0], '|', round(val[0][0], 2))\n",
        "                drop_cols.append(col.values[0])\n",
        "\n",
        "    # dropping one of each pair of correlated columns\n",
        "    drop_cols_set = set(drop_cols)\n",
        "    X.drop(columns=drop_cols_set, inplace=True)\n",
        "\n",
        "    # adding score back\n",
        "    X['Loan Status'] = y\n",
        "\n",
        "    return X"
      ],
      "execution_count": null,
      "outputs": []
    },
    {
      "cell_type": "code",
      "metadata": {
        "_uuid": "9ed921620417e13fb5641564b5090b3d7e97d86d",
        "id": "6-7ktHKCllLY",
        "colab": {
          "base_uri": "https://localhost:8080/"
        },
        "outputId": "691fb8ab-24da-4ce1-8df0-1e8d943740d1"
      },
      "source": [
        "credit_df = remove_collinear_features(credit_df, 0.6)"
      ],
      "execution_count": null,
      "outputs": [
        {
          "output_type": "stream",
          "name": "stdout",
          "text": [
            "Bankruptcies | Number of Credit Problems | 0.75\n",
            "Home Ownership_Rent | Home Ownership_Home Mortgage | 0.83\n",
            "Purpose_Take a Trip | Home Ownership_HaveMortgage | 0.61\n"
          ]
        }
      ]
    },
    {
      "cell_type": "code",
      "metadata": {
        "_uuid": "4be0e65c2ede81decd769b8e8768194a3c56b4cf",
        "colab": {
          "base_uri": "https://localhost:8080/"
        },
        "id": "3iHk9fKYllLa",
        "outputId": "37e4d1aa-1a5b-44f2-d689-139aaaa72622"
      },
      "source": [
        "credit_df.shape"
      ],
      "execution_count": null,
      "outputs": [
        {
          "output_type": "execute_result",
          "data": {
            "text/plain": [
              "(99794, 42)"
            ]
          },
          "metadata": {},
          "execution_count": 14
        }
      ]
    },
    {
      "cell_type": "markdown",
      "metadata": {
        "id": "WMk53IuEYVe8"
      },
      "source": [
        "### 4. XGBoost classification"
      ]
    },
    {
      "cell_type": "code",
      "metadata": {
        "_uuid": "241e10723db0c1fd8df28e7afbac69d8b2b4ab1b",
        "colab": {
          "base_uri": "https://localhost:8080/"
        },
        "id": "CvSwUIdylxjA",
        "outputId": "6fabd90b-7305-4765-cae7-09a165647026"
      },
      "source": [
        "# splitting dataset into training and testing sets\n",
        "features = credit_df.drop(columns='Loan Status')\n",
        "response = pd.DataFrame(credit_df['Loan Status'])\n",
        "X_train, X_test, y_train, y_test = train_test_split(features, response, \n",
        "                                                    test_size=0.2, random_state=42)\n",
        "\n",
        "print(X_train.shape)\n",
        "print(X_test.shape)\n",
        "print(y_train.shape)\n",
        "print(y_test.shape)"
      ],
      "execution_count": null,
      "outputs": [
        {
          "output_type": "stream",
          "name": "stdout",
          "text": [
            "(79835, 41)\n",
            "(19959, 41)\n",
            "(79835, 1)\n",
            "(19959, 1)\n"
          ]
        }
      ]
    },
    {
      "cell_type": "code",
      "metadata": {
        "_uuid": "349e486f1e8525e364f6be5334291ae8f00ca0cd",
        "colab": {
          "base_uri": "https://localhost:8080/"
        },
        "id": "Wu2SWWdalxjA",
        "outputId": "00e6106b-8314-4efa-9f37-e0dd790002bd"
      },
      "source": [
        "# feature scaling\n",
        "sc = StandardScaler()\n",
        "X_train = sc.fit_transform(X_train)\n",
        "X_test = sc.transform(X_test)\n",
        "\n",
        "# label encoding\n",
        "le = LabelEncoder()\n",
        "y_train = le.fit_transform(y_train)\n",
        "y_test = le.fit_transform(y_test)"
      ],
      "execution_count": null,
      "outputs": [
        {
          "output_type": "stream",
          "name": "stderr",
          "text": [
            "A column-vector y was passed when a 1d array was expected. Please change the shape of y to (n_samples, ), for example using ravel().\n"
          ]
        }
      ]
    },
    {
      "cell_type": "code",
      "source": [
        "# function for performance evaluation\n",
        "def model_perf(model, X, y):\n",
        "    # k-fold cross validation\n",
        "    cvs = cross_val_score(model, X, y, cv=5)\n",
        "    return cvs.mean()\n",
        "\n",
        "# function for fitting and evaluating model\n",
        "def model_fit_eval(model, X_train, X_test):\n",
        "    model.fit(X_train, y_train)\n",
        "    cvs_train = model_perf(model, X_train, y_train)\n",
        "    cvs_test = model_perf(model, X_test, y_test)\n",
        "    return cvs_train, cvs_test"
      ],
      "metadata": {
        "id": "r3Szr6dOgKqI"
      },
      "execution_count": null,
      "outputs": []
    },
    {
      "cell_type": "code",
      "source": [
        "# fitting and evaluating model\n",
        "xgb_c = XGBClassifier()\n",
        "cvs_train, cvs_test = model_fit_eval(xgb_c, X_train, X_test)\n",
        "print(cvs_train)\n",
        "print(cvs_test)"
      ],
      "metadata": {
        "id": "gzBrlXHPoXDr",
        "colab": {
          "base_uri": "https://localhost:8080/"
        },
        "outputId": "0731e5bb-f8f0-4b89-db17-fc709a4bd101"
      },
      "execution_count": null,
      "outputs": [
        {
          "output_type": "stream",
          "name": "stdout",
          "text": [
            "0.8197657668942193\n",
            "0.8172752922532613\n"
          ]
        }
      ]
    },
    {
      "cell_type": "code",
      "source": [
        "# feature importances\n",
        "feature_imp_df = pd.DataFrame({'Feature':list(features.columns), \n",
        "                               'Importance':xgb_c.feature_importances_})\n",
        "\n",
        "# top 10 most important features\n",
        "feature_imp_df = feature_imp_df.sort_values('Importance', ascending=False).reset_index(drop=True)\n",
        "feature_imp_df['Rank'] = np.arange(1, len(feature_imp_df)+1, 1)\n",
        "feature_imp_rank_df = feature_imp_df.set_index('Rank')\n",
        "feature_imp_rank_df = feature_imp_rank_df[['Feature', 'Importance']]\n",
        "feature_imp_rank_df.head(10)"
      ],
      "metadata": {
        "colab": {
          "base_uri": "https://localhost:8080/",
          "height": 394
        },
        "id": "xjtutvOU4dMr",
        "outputId": "620c8e20-7b5e-4ce0-8768-f8636784536a"
      },
      "execution_count": null,
      "outputs": [
        {
          "output_type": "execute_result",
          "data": {
            "text/html": [
              "\n",
              "  <div id=\"df-c61facec-89b2-4904-8d4f-efcfdf47233c\">\n",
              "    <div class=\"colab-df-container\">\n",
              "      <div>\n",
              "<style scoped>\n",
              "    .dataframe tbody tr th:only-of-type {\n",
              "        vertical-align: middle;\n",
              "    }\n",
              "\n",
              "    .dataframe tbody tr th {\n",
              "        vertical-align: top;\n",
              "    }\n",
              "\n",
              "    .dataframe thead th {\n",
              "        text-align: right;\n",
              "    }\n",
              "</style>\n",
              "<table border=\"1\" class=\"dataframe\">\n",
              "  <thead>\n",
              "    <tr style=\"text-align: right;\">\n",
              "      <th></th>\n",
              "      <th>Feature</th>\n",
              "      <th>Importance</th>\n",
              "    </tr>\n",
              "    <tr>\n",
              "      <th>Rank</th>\n",
              "      <th></th>\n",
              "      <th></th>\n",
              "    </tr>\n",
              "  </thead>\n",
              "  <tbody>\n",
              "    <tr>\n",
              "      <th>1</th>\n",
              "      <td>Credit Score</td>\n",
              "      <td>0.371498</td>\n",
              "    </tr>\n",
              "    <tr>\n",
              "      <th>2</th>\n",
              "      <td>Current Loan Amount</td>\n",
              "      <td>0.207109</td>\n",
              "    </tr>\n",
              "    <tr>\n",
              "      <th>3</th>\n",
              "      <td>Term_Long Term</td>\n",
              "      <td>0.145201</td>\n",
              "    </tr>\n",
              "    <tr>\n",
              "      <th>4</th>\n",
              "      <td>Annual Income</td>\n",
              "      <td>0.059634</td>\n",
              "    </tr>\n",
              "    <tr>\n",
              "      <th>5</th>\n",
              "      <td>Home Ownership_Home Mortgage</td>\n",
              "      <td>0.045661</td>\n",
              "    </tr>\n",
              "    <tr>\n",
              "      <th>6</th>\n",
              "      <td>Maximum Open Credit</td>\n",
              "      <td>0.022083</td>\n",
              "    </tr>\n",
              "    <tr>\n",
              "      <th>7</th>\n",
              "      <td>Purpose_Business Loan</td>\n",
              "      <td>0.021131</td>\n",
              "    </tr>\n",
              "    <tr>\n",
              "      <th>8</th>\n",
              "      <td>Current Credit Balance</td>\n",
              "      <td>0.020520</td>\n",
              "    </tr>\n",
              "    <tr>\n",
              "      <th>9</th>\n",
              "      <td>Purpose_small_business</td>\n",
              "      <td>0.020448</td>\n",
              "    </tr>\n",
              "    <tr>\n",
              "      <th>10</th>\n",
              "      <td>Monthly Debt</td>\n",
              "      <td>0.019713</td>\n",
              "    </tr>\n",
              "  </tbody>\n",
              "</table>\n",
              "</div>\n",
              "      <button class=\"colab-df-convert\" onclick=\"convertToInteractive('df-c61facec-89b2-4904-8d4f-efcfdf47233c')\"\n",
              "              title=\"Convert this dataframe to an interactive table.\"\n",
              "              style=\"display:none;\">\n",
              "        \n",
              "  <svg xmlns=\"http://www.w3.org/2000/svg\" height=\"24px\"viewBox=\"0 0 24 24\"\n",
              "       width=\"24px\">\n",
              "    <path d=\"M0 0h24v24H0V0z\" fill=\"none\"/>\n",
              "    <path d=\"M18.56 5.44l.94 2.06.94-2.06 2.06-.94-2.06-.94-.94-2.06-.94 2.06-2.06.94zm-11 1L8.5 8.5l.94-2.06 2.06-.94-2.06-.94L8.5 2.5l-.94 2.06-2.06.94zm10 10l.94 2.06.94-2.06 2.06-.94-2.06-.94-.94-2.06-.94 2.06-2.06.94z\"/><path d=\"M17.41 7.96l-1.37-1.37c-.4-.4-.92-.59-1.43-.59-.52 0-1.04.2-1.43.59L10.3 9.45l-7.72 7.72c-.78.78-.78 2.05 0 2.83L4 21.41c.39.39.9.59 1.41.59.51 0 1.02-.2 1.41-.59l7.78-7.78 2.81-2.81c.8-.78.8-2.07 0-2.86zM5.41 20L4 18.59l7.72-7.72 1.47 1.35L5.41 20z\"/>\n",
              "  </svg>\n",
              "      </button>\n",
              "      \n",
              "  <style>\n",
              "    .colab-df-container {\n",
              "      display:flex;\n",
              "      flex-wrap:wrap;\n",
              "      gap: 12px;\n",
              "    }\n",
              "\n",
              "    .colab-df-convert {\n",
              "      background-color: #E8F0FE;\n",
              "      border: none;\n",
              "      border-radius: 50%;\n",
              "      cursor: pointer;\n",
              "      display: none;\n",
              "      fill: #1967D2;\n",
              "      height: 32px;\n",
              "      padding: 0 0 0 0;\n",
              "      width: 32px;\n",
              "    }\n",
              "\n",
              "    .colab-df-convert:hover {\n",
              "      background-color: #E2EBFA;\n",
              "      box-shadow: 0px 1px 2px rgba(60, 64, 67, 0.3), 0px 1px 3px 1px rgba(60, 64, 67, 0.15);\n",
              "      fill: #174EA6;\n",
              "    }\n",
              "\n",
              "    [theme=dark] .colab-df-convert {\n",
              "      background-color: #3B4455;\n",
              "      fill: #D2E3FC;\n",
              "    }\n",
              "\n",
              "    [theme=dark] .colab-df-convert:hover {\n",
              "      background-color: #434B5C;\n",
              "      box-shadow: 0px 1px 3px 1px rgba(0, 0, 0, 0.15);\n",
              "      filter: drop-shadow(0px 1px 2px rgba(0, 0, 0, 0.3));\n",
              "      fill: #FFFFFF;\n",
              "    }\n",
              "  </style>\n",
              "\n",
              "      <script>\n",
              "        const buttonEl =\n",
              "          document.querySelector('#df-c61facec-89b2-4904-8d4f-efcfdf47233c button.colab-df-convert');\n",
              "        buttonEl.style.display =\n",
              "          google.colab.kernel.accessAllowed ? 'block' : 'none';\n",
              "\n",
              "        async function convertToInteractive(key) {\n",
              "          const element = document.querySelector('#df-c61facec-89b2-4904-8d4f-efcfdf47233c');\n",
              "          const dataTable =\n",
              "            await google.colab.kernel.invokeFunction('convertToInteractive',\n",
              "                                                     [key], {});\n",
              "          if (!dataTable) return;\n",
              "\n",
              "          const docLinkHtml = 'Like what you see? Visit the ' +\n",
              "            '<a target=\"_blank\" href=https://colab.research.google.com/notebooks/data_table.ipynb>data table notebook</a>'\n",
              "            + ' to learn more about interactive tables.';\n",
              "          element.innerHTML = '';\n",
              "          dataTable['output_type'] = 'display_data';\n",
              "          await google.colab.output.renderOutput(dataTable, element);\n",
              "          const docLink = document.createElement('div');\n",
              "          docLink.innerHTML = docLinkHtml;\n",
              "          element.appendChild(docLink);\n",
              "        }\n",
              "      </script>\n",
              "    </div>\n",
              "  </div>\n",
              "  "
            ],
            "text/plain": [
              "                           Feature  Importance\n",
              "Rank                                          \n",
              "1                     Credit Score    0.371498\n",
              "2              Current Loan Amount    0.207109\n",
              "3                   Term_Long Term    0.145201\n",
              "4                    Annual Income    0.059634\n",
              "5     Home Ownership_Home Mortgage    0.045661\n",
              "6              Maximum Open Credit    0.022083\n",
              "7            Purpose_Business Loan    0.021131\n",
              "8           Current Credit Balance    0.020520\n",
              "9           Purpose_small_business    0.020448\n",
              "10                    Monthly Debt    0.019713"
            ]
          },
          "metadata": {},
          "execution_count": 20
        }
      ]
    },
    {
      "cell_type": "code",
      "source": [
        "# using top 10 most important features to fit and evaluate model\n",
        "top_features_df = feature_imp_rank_df['Feature'][:10]\n",
        "top_features = [list(features.columns).index(c) for c in top_features_df]\n",
        "X_train1 = X_train[:,top_features]\n",
        "X_test1 = X_test[:,top_features]"
      ],
      "metadata": {
        "id": "7yr5NmA17btL"
      },
      "execution_count": null,
      "outputs": []
    },
    {
      "cell_type": "code",
      "source": [
        "xgb_c1 = XGBClassifier()\n",
        "cvs_train1, cvs_test1 = model_fit_eval(xgb_c1, X_train1, X_test1)\n",
        "print(cvs_train1)\n",
        "print(cvs_test1) # improvement from xgb_c"
      ],
      "metadata": {
        "colab": {
          "base_uri": "https://localhost:8080/"
        },
        "id": "ep3SZsoa8Emt",
        "outputId": "8b4e0757-7b61-42e4-8b1d-bbbe1d1a8e29"
      },
      "execution_count": null,
      "outputs": [
        {
          "output_type": "stream",
          "name": "stdout",
          "text": [
            "0.8197657668942193\n",
            "0.8174757181614545\n"
          ]
        }
      ]
    },
    {
      "cell_type": "markdown",
      "source": [
        "### 5. Explaining with Shapely"
      ],
      "metadata": {
        "id": "TG6055kL2FEy"
      }
    },
    {
      "cell_type": "code",
      "source": [
        "# creating X train dataframe\n",
        "X_train = pd.DataFrame(X_train)\n",
        "X_train.columns = features.columns\n",
        "X_train.rename(columns={'Years in current job_< 1 year':'Years in current job less than a year'}, inplace=True)"
      ],
      "metadata": {
        "id": "JzuAOw4Waqan"
      },
      "execution_count": null,
      "outputs": []
    },
    {
      "cell_type": "code",
      "source": [
        "# loading JS visualization to notebook\n",
        "shap.initjs()\n",
        "\n",
        "# explaining model's predictions with SHAP values\n",
        "explainer = shap.TreeExplainer(xgb_c)\n",
        "shap_values = explainer.shap_values(X_train)\n",
        "\n",
        "# visualizing first prediction's explanation\n",
        "shap.force_plot(explainer.expected_value, \n",
        "                shap_values[14,:], \n",
        "                X_train.iloc[14,:])"
      ],
      "metadata": {
        "id": "LIL_OMkz1pOW"
      },
      "execution_count": null,
      "outputs": []
    },
    {
      "cell_type": "markdown",
      "source": [
        "![image.png](data:image/png;base64,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)"
      ],
      "metadata": {
        "id": "YussXubCJYVz"
      }
    },
    {
      "cell_type": "code",
      "source": [
        "# summarizing effects of features\n",
        "shap.summary_plot(shap_values, X_train)"
      ],
      "metadata": {
        "colab": {
          "base_uri": "https://localhost:8080/",
          "height": 588
        },
        "id": "P07vjoTO3YSE",
        "outputId": "09026871-945d-426b-df64-eb90f0f3edc8"
      },
      "execution_count": null,
      "outputs": [
        {
          "output_type": "display_data",
          "data": {
            "image/png": "[encoded data removed]",
            "text/plain": [
              "<Figure size 576x684 with 2 Axes>"
            ]
          },
          "metadata": {}
        }
      ]
    },
    {
      "cell_type": "code",
      "source": [
        "# summarizing importances of features\n",
        "shap.summary_plot(shap_values, X_train, plot_type='bar')"
      ],
      "metadata": {
        "colab": {
          "base_uri": "https://localhost:8080/",
          "height": 584
        },
        "id": "f9WVyprZ3s7z",
        "outputId": "47f660ee-bba4-4813-ac3a-13caf24c0afb"
      },
      "execution_count": null,
      "outputs": [
        {
          "output_type": "display_data",
          "data": {
            "image/png": "[encoded data removed]",
            "text/plain": [
              "<Figure size 576x684 with 1 Axes>"
            ]
          },
          "metadata": {}
        }
      ]
    },
    {
      "cell_type": "code",
      "source": [
        ""
      ],
      "metadata": {
        "id": "ZWuxnyQN3-VU"
      },
      "execution_count": null,
      "outputs": []
    }
  ]
}